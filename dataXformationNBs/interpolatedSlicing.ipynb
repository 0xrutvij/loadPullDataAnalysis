{
 "cells": [
  {
   "cell_type": "code",
   "execution_count": 6,
   "metadata": {
    "collapsed": false
   },
   "outputs": [
   ],
   "source": [
    "import os, pathlib;\n",
    "import numpy as np\n",
    "import matplotlib.pyplot as plt\n",
    "import pandas as pd\n",
    "\n",
    "directory = os.getcwd()\n",
    "p = pathlib.Path(directory)\n",
    "parentDir= str(p.parents[0])\n",
    "\n",
    "filepath = parentDir #+ \"/DataFiles/\" \n",
    "csvName = \"UTD_LP_File_1.csv\"\n",
    "pickleName = \"UTD_LP_File_1.pick\"\n",
    "#df_csv = pd.read_csv(csvName) #filepath + \n",
    "df = pd.read_pickle(pickleName) #filepath +\n",
    "#display(df.head())\n",
    "#df.describe()"
   ]
  },
  {
   "cell_type": "code",
   "execution_count": 7,
   "metadata": {
    "collapsed": false,
    "scrolled": true
   },
   "outputs": [
   ],
   "source": [
    "##any data analysis will require filtering for harmonic 1 only, harm2 and harm3 will skew analysis\n",
    "df_harm1 = df[df['harmonic']==1]\n",
    "df_harm1 = df_harm1[['gammaTuple', 'power', 'Pin', 'Pout', 'Gain', 'PAE', 'drainEff', 'r', 'x']].copy()\n",
    "\n",
    "df.set_index(keys=['gammaTuple'], drop=False,inplace=True)\n",
    "uniqGammas=df['gammaTuple'].unique().tolist()\n",
    "\n",
    "#print(uniqGammas)\n",
    "\n",
    "listGamDf = []\n",
    "\n",
    "for gam in uniqGammas:\n",
    "    gamDf = df_harm1.loc[df_harm1.gammaTuple==gam]\n",
    "    gamDf.index = range(len(gamDf))\n",
    "    listGamDf.append(gamDf)\n",
    "\n",
    "\n",
    "listGamDfC = listGamDf.copy()\n",
    "#print(listGamDf[-1])\n",
    "\n",
    "##Trying interpolated-slicing at Pout = its 75th percentile value, i.e. Pout = 12"
   ]
  },
  {
   "cell_type": "code",
   "execution_count": 8,
   "metadata": {
    "collapsed": false
   },
   "outputs": [
    {
     "name": "stdout",
     "output_type": "stream",
     "text": [
      "Average linear error fitting Pout and Power indices 12.319378642276762\n",
      "Average quadratic error fitting Pout and Power indices 4.3359013425020425\n",
      "0.8623183087147398\n",
      "Average cubic error fitting Pout and Power indices 1.4220629503713753\n"
     ]
    }
   ],
   "source": [
    "## working on trying to find an objective function that fits pout on x-axis and power indices on y-axis\n",
    "from scipy.optimize import curve_fit\n",
    "from scipy.interpolate import barycentric_interpolate\n",
    "from matplotlib import pyplot as plt\n",
    "\n",
    "def findErrorPercent(y, y_line):\n",
    "    avgErrorPercent = 0\n",
    "    totalErrorPercents = 0\n",
    "\n",
    "    for true, predicted in zip(y, y_line):\n",
    "        error = abs(predicted-true)\n",
    "        errorPercent = (error/true)*100\n",
    "        totalErrorPercents += errorPercent\n",
    "\n",
    "    avgErrorPercent = totalErrorPercents/len(y)\n",
    "    return avgErrorPercent\n",
    "\n",
    "def objective_poly3(x, a, b, c, d):\n",
    "\treturn a * x + b * x**2 + c * x**3 + d\n",
    "\n",
    "def objective_poly2(x, a, b, c):\n",
    "\treturn a * x + b * x**2 + c\n",
    "\n",
    "def objective_linear(x, a, b):\n",
    "\treturn a * x + b\n",
    "\n",
    "listFunctions = [objective_linear, objective_poly2, objective_poly3]\n",
    "functionIDs = [id(x) for x in listFunctions]\n",
    "allErrors = []\n",
    "\n",
    "\n",
    "for gamDf in listGamDfC:\n",
    "    poutList = gamDf[['Pout']].to_numpy().transpose().tolist()[0]\n",
    "    powerList = gamDf[['power']].to_numpy().transpose().tolist()[0]\n",
    "    errorList = []\n",
    "    for objective in listFunctions:\n",
    "        x, y = poutList, powerList\n",
    "        popt, _ = curve_fit(objective, x, y)\n",
    "        x_line = np.array(sorted(x))\n",
    "        #plt.scatter(x, y)\n",
    "\n",
    "        if objective_linear == objective:\n",
    "            a,b = popt\n",
    "            #print('y = %.5f * x + %.5f' % (a, b))\n",
    "            y_line = objective(x_line, a, b)\n",
    "            linear_error = findErrorPercent(y, y_line)\n",
    "            errorList.append(linear_error)\n",
    "        elif objective_poly2 == objective:\n",
    "            a,b,c = popt\n",
    "            #print('y = %.5f * x + %.5f * x^2 + %.5f' % (a, b, c))\n",
    "            y_line = objective(x_line, a, b, c)\n",
    "            quad_error = findErrorPercent(y, y_line)\n",
    "            errorList.append(quad_error)\n",
    "        else:\n",
    "            a, b, c, d = popt\n",
    "            #print('y = %.5f * x + %.5f * x^2 + %.5f * x^3 + %.5f' % (a, b, c, d))\n",
    "            y_line = objective(x_line, a, b, c, d)\n",
    "            cubic_error = findErrorPercent(y, y_line)\n",
    "            errorList.append(cubic_error)\n",
    "        #plt.plot(x_line, y_line, '--', color='red')\n",
    "        #plt.show()\n",
    "    allErrors.append(errorList)\n",
    "\n",
    "allErrors =  np.array(allErrors).transpose()\n",
    "\n",
    "linear_errors = allErrors[0].tolist()\n",
    "print('Average linear error fitting Pout and Power indices', sum(linear_errors)/len(linear_errors))\n",
    "quad_errors = allErrors[1].tolist()\n",
    "print('Average quadratic error fitting Pout and Power indices', sum(quad_errors)/len(quad_errors))\n",
    "cubic_errors = allErrors[2].tolist()\n",
    "print(cubic_errors[1])\n",
    "print('Average cubic error fitting Pout and Power indices', sum(cubic_errors)/len(cubic_errors))"
   ]
  },
  {
   "cell_type": "code",
   "execution_count": 0,
   "metadata": {
    "collapsed": false
   },
   "outputs": [
   ],
   "source": [
   ]
  },
  {
   "cell_type": "code",
   "execution_count": 9,
   "metadata": {
    "collapsed": false
   },
   "outputs": [
    {
     "name": "stdout",
     "output_type": "stream",
     "text": [
      "['power', 'Pin', 'Gain', 'PAE', 'drainEff', 'r', 'x']\n"
     ]
    },
    {
     "name": "stdout",
     "output_type": "stream",
     "text": [
      "  gammaTuple      power        Pin       Pout       Gain         PAE  \\\n",
      "0       (2,) -16.827679 -31.650419  12.000000  43.650419  239.105351   \n",
      "1       (2,)   1.000000  -0.276393  14.165755  14.442149   22.456467   \n",
      "2       (2,)   2.000000   0.679620  15.046296  14.366676   26.610909   \n",
      "3       (2,)   3.000000   1.613413  15.876645  14.263232   30.896169   \n",
      "4       (2,)   4.000000   2.516785  16.644300  14.127516   35.045073   \n",
      "5       (2,)   5.000000   3.388196  17.354401  13.966205   39.075257   \n",
      "6       (2,)   6.000000   4.225680  17.990077  13.764397   42.840306   \n",
      "7       (2,)   7.000000   5.027269  18.540410  13.513140   46.225211   \n",
      "8       (2,)   8.000000   5.799251  19.001790  13.202539   49.052729   \n",
      "9       (2,)   9.000000   6.540957  19.379825  12.838867   51.307304   \n",
      "\n",
      "     drainEff         r         x  \n",
      "0  240.744104 -0.124754 -0.126850  \n",
      "1   23.294054 -0.173202 -0.100002  \n",
      "2   27.621510 -0.173207 -0.099999  \n",
      "3   32.098896 -0.173209 -0.100000  \n",
      "4   36.454355 -0.173208 -0.099997  \n",
      "5   40.708554 -0.173203 -0.099999  \n",
      "6   44.719886 -0.173207 -0.099998  \n",
      "7   48.379726 -0.173207 -0.099999  \n",
      "8   51.517049 -0.173207 -0.100000  \n",
      "9   54.122380 -0.173204 -0.100000  \n"
     ]
    }
   ],
   "source": [
    "'''\n",
    "index = [(ind2 - ind1)*(val - lower)/(upper - lower)] + ind1\n",
    "for sanity check\n",
    "(7-6)((12-11.514738351588367)/(12.111547248846863-11.514738351588367))+6 = 6.81\n",
    "'''\n",
    "\n",
    "###Using linear interpolation, since cubic creates outliers. Need a strategy to used cubic's accuracy but curb outliers.\n",
    "### one idea could involve filtering those points where the pout isn't within the range of it's pouts for the power range. \n",
    "\n",
    "FIXED_POUT = 12.0\n",
    "dfOfLoadsAtPoutX = pd.DataFrame()\n",
    "\n",
    "cols = listGamDf[-1].columns.to_list()\n",
    "cols.remove('Pout')\n",
    "cols.remove('gammaTuple')\n",
    "print(cols)\n",
    "import numpy as np\n",
    "\n",
    "for i,gamDf in enumerate(listGamDf):\n",
    "    calcDict = {}\n",
    "    poutList = gamDf[['Pout']].to_numpy().transpose().tolist()[0]\n",
    "    for col in cols:\n",
    "        colVals = gamDf[[col]].to_numpy().transpose().tolist()[0]\n",
    "        #calcVal = np.interp(FIXED_POUT, poutList, colVals)\n",
    "        calcVal = barycentric_interpolate(poutList, colVals, FIXED_POUT)\n",
    "        calcDict[col] = round(float(calcVal),6)\n",
    "    calcDict['Pout'] = FIXED_POUT\n",
    "    calcDict['gammaTuple'] = gamDf['gammaTuple'][0]\n",
    "    dfOfLoadsAtPoutX = dfOfLoadsAtPoutX.append(calcDict, ignore_index=True)\n",
    "    listGamDf[i] = gamDf.append(calcDict, ignore_index=True).sort_values(by=['power'],ignore_index=True)\n",
    "\n",
    "print(listGamDf[1])\n",
    "#dfOfLoadsAtPoutX = dfOfLoadsAtPoutX.sort_values(by=['gammaTuple'],ignore_index=True)\n",
    "#print(dfOfLoadsAtPoutX)\n",
    "\n"
   ]
  },
  {
   "cell_type": "code",
   "execution_count": 0,
   "metadata": {
    "collapsed": false
   },
   "outputs": [
   ],
   "source": [
   ]
  },
  {
   "cell_type": "code",
   "execution_count": 0,
   "metadata": {
    "collapsed": false
   },
   "outputs": [
   ],
   "source": [
   ]
  },
  {
   "cell_type": "code",
   "execution_count": 0,
   "metadata": {
    "collapsed": false
   },
   "outputs": [
   ],
   "source": [
   ]
  },
  {
   "cell_type": "code",
   "execution_count": 5,
   "metadata": {
    "collapsed": false
   },
   "outputs": [
   ],
   "source": [
    "'''\n",
    "listGamDfC[-1] = listGamDfC[-1].append(pd.Series([np.nan]), ignore_index=True)\n",
    "\n",
    "listGamDfC[-1].iloc[-1, listGamDfC[-1].columns.get_loc('Pout')] = 12.0\n",
    "\n",
    "listGamDfC[-1].sort_values(by=['Pout'],ignore_index=True, inplace=True)\n",
    "\n",
    "listGamDfC[-1]['power'] =  listGamDfC[-1]['power'].apply(float)\n",
    "\n",
    "listGamDfC[-1].interpolate(inplace=True)\n",
    "\n",
    "listGamDfC[-1] = listGamDfC[-1].drop(columns=[0])\n",
    "\n",
    "print(listGamDfC[-1])\n",
    "'''\n",
    "pass"
   ]
  }
 ],
 "metadata": {
  "kernelspec": {
   "display_name": "Python 3 (system-wide)",
   "language": "python",
   "metadata": {
    "cocalc": {
     "description": "Python 3 programming language",
     "priority": 100,
     "url": "https://www.python.org/"
    }
   },
   "name": "python3",
   "resource_dir": "/ext/jupyter/kernels/python3"
  },
  "language_info": {
   "codemirror_mode": {
    "name": "ipython",
    "version": 3
   },
   "file_extension": ".py",
   "mimetype": "text/x-python",
   "name": "python",
   "nbconvert_exporter": "python",
   "pygments_lexer": "ipython3",
   "version": "3.8.5"
  },
  "metadata": {
   "interpreter": {
    "hash": "aee8b7b246df8f9039afb4144a1f6fd8d2ca17a180786b69acc140d282b71a49"
   }
  }
 },
 "nbformat": 4,
 "nbformat_minor": 4
}